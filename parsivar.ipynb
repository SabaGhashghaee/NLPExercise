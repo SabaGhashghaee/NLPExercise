{
 "cells": [
  {
   "cell_type": "code",
   "execution_count": 1,
   "metadata": {},
   "outputs": [
    {
     "name": "stdout",
     "output_type": "stream",
     "text": [
      "Collecting parsivar\n"
     ]
    },
    {
     "name": "stderr",
     "output_type": "stream",
     "text": [
      "ERROR: Exception:\n",
      "Traceback (most recent call last):\n",
      "  File \"c:\\users\\user\\appdata\\local\\programs\\python\\python37\\lib\\site-packages\\pip\\_vendor\\urllib3\\response.py\", line 397, in _error_catcher\n",
      "    yield\n",
      "  File \"c:\\users\\user\\appdata\\local\\programs\\python\\python37\\lib\\site-packages\\pip\\_vendor\\urllib3\\response.py\", line 479, in read\n",
      "    data = self._fp.read(amt)\n",
      "  File \"c:\\users\\user\\appdata\\local\\programs\\python\\python37\\lib\\site-packages\\pip\\_vendor\\cachecontrol\\filewrapper.py\", line 62, in read\n",
      "    data = self.__fp.read(amt)\n",
      "  File \"c:\\users\\user\\appdata\\local\\programs\\python\\python37\\lib\\http\\client.py\", line 457, in read\n",
      "    n = self.readinto(b)\n",
      "  File \"c:\\users\\user\\appdata\\local\\programs\\python\\python37\\lib\\http\\client.py\", line 501, in readinto\n",
      "    n = self.fp.readinto(b)\n",
      "  File \"c:\\users\\user\\appdata\\local\\programs\\python\\python37\\lib\\socket.py\", line 589, in readinto\n",
      "    return self._sock.recv_into(b)\n",
      "  File \"c:\\users\\user\\appdata\\local\\programs\\python\\python37\\lib\\ssl.py\", line 1071, in recv_into\n",
      "    return self.read(nbytes, buffer)\n",
      "  File \"c:\\users\\user\\appdata\\local\\programs\\python\\python37\\lib\\ssl.py\", line 929, in read\n",
      "    return self._sslobj.read(len, buffer)\n",
      "socket.timeout: The read operation timed out\n",
      "\n",
      "During handling of the above exception, another exception occurred:\n",
      "\n",
      "Traceback (most recent call last):\n",
      "  File \"c:\\users\\user\\appdata\\local\\programs\\python\\python37\\lib\\site-packages\\pip\\_internal\\cli\\base_command.py\", line 188, in main\n",
      "    status = self.run(options, args)\n",
      "  File \"c:\\users\\user\\appdata\\local\\programs\\python\\python37\\lib\\site-packages\\pip\\_internal\\commands\\install.py\", line 345, in run\n",
      "    resolver.resolve(requirement_set)\n",
      "  File \"c:\\users\\user\\appdata\\local\\programs\\python\\python37\\lib\\site-packages\\pip\\_internal\\legacy_resolve.py\", line 196, in resolve\n",
      "    self._resolve_one(requirement_set, req)\n",
      "  File \"c:\\users\\user\\appdata\\local\\programs\\python\\python37\\lib\\site-packages\\pip\\_internal\\legacy_resolve.py\", line 359, in _resolve_one\n",
      "    abstract_dist = self._get_abstract_dist_for(req_to_install)\n",
      "  File \"c:\\users\\user\\appdata\\local\\programs\\python\\python37\\lib\\site-packages\\pip\\_internal\\legacy_resolve.py\", line 307, in _get_abstract_dist_for\n",
      "    self.require_hashes\n",
      "  File \"c:\\users\\user\\appdata\\local\\programs\\python\\python37\\lib\\site-packages\\pip\\_internal\\operations\\prepare.py\", line 199, in prepare_linked_requirement\n",
      "    progress_bar=self.progress_bar\n",
      "  File \"c:\\users\\user\\appdata\\local\\programs\\python\\python37\\lib\\site-packages\\pip\\_internal\\download.py\", line 1064, in unpack_url\n",
      "    progress_bar=progress_bar\n",
      "  File \"c:\\users\\user\\appdata\\local\\programs\\python\\python37\\lib\\site-packages\\pip\\_internal\\download.py\", line 924, in unpack_http_url\n",
      "    progress_bar)\n",
      "  File \"c:\\users\\user\\appdata\\local\\programs\\python\\python37\\lib\\site-packages\\pip\\_internal\\download.py\", line 1152, in _download_http_url\n",
      "    _download_url(resp, link, content_file, hashes, progress_bar)\n",
      "  File \"c:\\users\\user\\appdata\\local\\programs\\python\\python37\\lib\\site-packages\\pip\\_internal\\download.py\", line 861, in _download_url\n",
      "    hashes.check_against_chunks(downloaded_chunks)\n",
      "  File \"c:\\users\\user\\appdata\\local\\programs\\python\\python37\\lib\\site-packages\\pip\\_internal\\utils\\hashes.py\", line 75, in check_against_chunks\n",
      "    for chunk in chunks:\n",
      "  File \"c:\\users\\user\\appdata\\local\\programs\\python\\python37\\lib\\site-packages\\pip\\_internal\\download.py\", line 829, in written_chunks\n",
      "    for chunk in chunks:\n",
      "  File \"c:\\users\\user\\appdata\\local\\programs\\python\\python37\\lib\\site-packages\\pip\\_internal\\utils\\ui.py\", line 156, in iter\n",
      "    for x in it:\n",
      "  File \"c:\\users\\user\\appdata\\local\\programs\\python\\python37\\lib\\site-packages\\pip\\_internal\\download.py\", line 818, in resp_read\n",
      "    decode_content=False):\n",
      "  File \"c:\\users\\user\\appdata\\local\\programs\\python\\python37\\lib\\site-packages\\pip\\_vendor\\urllib3\\response.py\", line 531, in stream\n",
      "    data = self.read(amt=amt, decode_content=decode_content)\n",
      "  File \"c:\\users\\user\\appdata\\local\\programs\\python\\python37\\lib\\site-packages\\pip\\_vendor\\urllib3\\response.py\", line 496, in read\n",
      "    raise IncompleteRead(self._fp_bytes_read, self.length_remaining)\n",
      "  File \"c:\\users\\user\\appdata\\local\\programs\\python\\python37\\lib\\contextlib.py\", line 130, in __exit__\n",
      "    self.gen.throw(type, value, traceback)\n",
      "  File \"c:\\users\\user\\appdata\\local\\programs\\python\\python37\\lib\\site-packages\\pip\\_vendor\\urllib3\\response.py\", line 402, in _error_catcher\n",
      "    raise ReadTimeoutError(self._pool, None, 'Read timed out.')\n",
      "pip._vendor.urllib3.exceptions.ReadTimeoutError: HTTPSConnectionPool(host='files.pythonhosted.org', port=443): Read timed out.\n",
      "WARNING: You are using pip version 19.2.3, however version 20.1.1 is available.\n",
      "You should consider upgrading via the 'python -m pip install --upgrade pip' command.\n"
     ]
    },
    {
     "name": "stdout",
     "output_type": "stream",
     "text": [
      "  Downloading https://files.pythonhosted.org/packages/b7/53/55561d12a6fd5304b281b3e444c8713271ce876578f952193664f33867d4/parsivar-0.2.3.tar.gz (36.2MB)\n"
     ]
    }
   ],
   "source": [
    "!pip install parsivar"
   ]
  },
  {
   "cell_type": "code",
   "execution_count": 11,
   "metadata": {},
   "outputs": [],
   "source": [
    "from parsivar import Normalizer\n",
    "from parsivar import Tokenizer"
   ]
  },
  {
   "cell_type": "code",
   "execution_count": 4,
   "metadata": {},
   "outputs": [],
   "source": [
    "tmp_text = \"فیلم توگو : درام محصول سال ۲۰۱۹ کشور آمریکا به کارگردانی اریکسون کور است. بازیگرانی چون ویلم دفو، جولیان نیکلسون، ریچارد دورمر، آدرین دوروال، مدلین ویکینز، مایکل گری‌آیز، نایو نیلسن و نیکولای نیکولایف در این فیلم به ایفای نقش پرداخته‌اند. فیلم توگو در تاریخ ۲۰ دسامبر ۲۰۱۹ توسط سرویس دیزنی پلاس در شبکه نمایش خانگی آمریکا منتشر شد و نقدهای مطلوبی را از سوی بسیاری از منتقدان دریافت کرد.از جمله افتخارات این فیلم می‌توان به نامزدی دریافت یک جایزه در جشنواره ویرایشگران صدای آثار سینمایی ۲۰۲۰ اشاره کرد.\""
   ]
  },
  {
   "cell_type": "code",
   "execution_count": 12,
   "metadata": {},
   "outputs": [
    {
     "name": "stdout",
     "output_type": "stream",
     "text": [
      "فیلم توگو : درام محصول سال 2019 کشور آمریکا به کارگردانی اریکسون کور است . بازیگرانی چون ویلم دفو ، جولیان نیکلسون ، ریچارد دورمر ، آدرین دوروال ، مدلین ویکینز ، مایکل گری‌آیز ، نایو نیلسن و نیکولای نیکولایف در این فیلم به ایفای نقش پرداخته‌اند . فیلم توگو در تاریخ 20 دسامبر 2019 توسط سرویس دیزنی پلاس در شبکه نمایش خانگی آمریکا منتشر شد و نقدهای مطلوبی را از سوی بسیاری از منتقدان دریافت کرد . از جمله افتخارات این فیلم می‌توان به نامزدی دریافت یک جایزه در جشنواره ویرایشگران صدای آثار سینمایی 2020 اشاره کرد .\n"
     ]
    }
   ],
   "source": [
    "my_nor = Normalizer()\n",
    "print(my_nor.normalize(tmp_text))"
   ]
  },
  {
   "cell_type": "code",
   "execution_count": 6,
   "metadata": {},
   "outputs": [
    {
     "name": "stdout",
     "output_type": "stream",
     "text": [
      "فیلم توگو : درام محصول سال y0m0d2019 کشور آمریکا به کارگردانی اریکسون کور است . بازیگرانی چون ویلم دفو ، جولیان نیکلسون ، ریچارد دورمر ، آدرین دوروال ، مدلین ویکینز ، مایکل گری‌آیز ، نایو نیلسن و نیکولای نیکولایف در این فیلم به ایفای نقش پرداخته‌اند . فیلم توگو در تاریخ 20 دسامبر 2019 توسط سرویس دیزنی پلاس در شبکه نمایش خانگی آمریکا منتشر شد و نقدهای مطلوبی را از سوی بسیاری از منتقدان دریافت کرد . از جمله افتخارات این فیلم می‌توان به نامزدی دریافت 1 جایزه در جشنواره ویرایشگران صدای آثار سینمایی 2020 اشاره کرد .\n"
     ]
    }
   ],
   "source": [
    "my_nor = Normalizer(date_normalizing_needed = True)\n",
    "print(my_nor.normalize(tmp_text))"
   ]
  },
  {
   "cell_type": "code",
   "execution_count": 17,
   "metadata": {},
   "outputs": [
    {
     "name": "stdout",
     "output_type": "stream",
     "text": [
      "خودت خر است\n"
     ]
    }
   ],
   "source": [
    "my_nor = Normalizer(pinglish_conversion_needed = True)\n",
    "print(my_nor.normalize(\"khodet khar ast\"))"
   ]
  },
  {
   "cell_type": "code",
   "execution_count": 13,
   "metadata": {},
   "outputs": [
    {
     "name": "stdout",
     "output_type": "stream",
     "text": [
      "['فیلم توگو : درام محصول سال 2019 کشور آمریکا به کارگردانی اریکسون کور است  .', ' بازیگرانی چون ویلم دفو ، جولیان نیکلسون ، ریچارد دورمر ، آدرین دوروال ، مدلین ویکینز ، مایکل گری\\u200cآیز ، نایو نیلسن و نیکولای نیکولایف در این فیلم به ایفای نقش پرداخته\\u200cاند  .', ' فیلم توگو در تاریخ 20 دسامبر 2019 توسط سرویس دیزنی پلاس در شبکه نمایش خانگی آمریکا منتشر شد و نقدهای مطلوبی را از سوی بسیاری از منتقدان دریافت کرد  .', ' از جمله افتخارات این فیلم می\\u200cتوان به نامزدی دریافت یک جایزه در جشنواره ویرایشگران صدای آثار سینمایی 2020 اشاره کرد  .']\n"
     ]
    }
   ],
   "source": [
    "my_tokenizer = Tokenizer()\n",
    "sents = my_tokenizer.tokenize_sentences(my_nor.normalize(tmp_text))\n",
    "print(sents)"
   ]
  },
  {
   "cell_type": "code",
   "execution_count": 12,
   "metadata": {},
   "outputs": [
    {
     "name": "stdout",
     "output_type": "stream",
     "text": [
      "['فیلم', 'توگو', ':', 'درام', 'محصول', 'سال', '2019', 'کشور', 'آمریکا', 'به', 'کارگردانی', 'اریکسون', 'کور', 'است', '.', 'بازیگرانی', 'چون', 'ویلم', 'دفو', '،', 'جولیان', 'نیکلسون', '،', 'ریچارد', 'دورمر', '،', 'آدرین', 'دوروال', '،', 'مدلین', 'ویکینز', '،', 'مایکل', 'گری\\u200cآیز', '،', 'نایو', 'نیلسن', 'و', 'نیکولای', 'نیکولایف', 'در', 'این', 'فیلم', 'به', 'ایفای', 'نقش', 'پرداخته\\u200cاند', '.', 'فیلم', 'توگو', 'در', 'تاریخ', '20', 'دسامبر', '2019', 'توسط', 'سرویس', 'دیزنی', 'پلاس', 'در', 'شبکه', 'نمایش', 'خانگی', 'آمریکا', 'منتشر', 'شد', 'و', 'نقدهای', 'مطلوبی', 'را', 'از', 'سوی', 'بسیاری', 'از', 'منتقدان', 'دریافت', 'کرد', '.', 'از', 'جمله', 'افتخارات', 'این', 'فیلم', 'می\\u200cتوان', 'به', 'نامزدی', 'دریافت', 'یک', 'جایزه', 'در', 'جشنواره', 'ویرایشگران', 'صدای', 'آثار', 'سینمایی', '2020', 'اشاره', 'کرد', '.']\n"
     ]
    }
   ],
   "source": [
    "words = my_tokenizer.tokenize_words(my_nor.normalize(tmp_text))\n",
    "print(words)"
   ]
  },
  {
   "cell_type": "code",
   "execution_count": 5,
   "metadata": {},
   "outputs": [
    {
     "name": "stdout",
     "output_type": "stream",
     "text": [
      "گفت&گو\n"
     ]
    }
   ],
   "source": [
    "from parsivar import FindStems\n",
    "my_stemmer = FindStems()\n",
    "print(my_stemmer.convert_to_stem(\"گفته بودم\"))"
   ]
  },
  {
   "cell_type": "code",
   "execution_count": 14,
   "metadata": {},
   "outputs": [],
   "source": [
    "tmp_Moh = \"هنگام ثبت فروش دارايي برای اقلام دارایی كه جدیدا تحصیل شده اند پیغام براي دارايي (XXX) با پلاك (xxx) در تاريخ (xx/xx/xx) عمليات تحصيل دارايي ثبت شده است نمایش داده میشود، علت چیست؟ \""
   ]
  },
  {
   "cell_type": "code",
   "execution_count": 8,
   "metadata": {},
   "outputs": [
    {
     "name": "stdout",
     "output_type": "stream",
     "text": [
      "هنگام ثبت فروش دارايي برای اقلام دارایی كه جدیدا تحصیل شده اند پیغام براي دارايي (XXX) با پلاك (xxx) در تاريخ (xx/xx/xx) عمليات تحصيل دارايي ثبت شده است نمایش داده میشود، علت چیست؟ \n"
     ]
    }
   ],
   "source": [
    "print(my_stemmer.convert_to_stem(tmp_Moh))"
   ]
  },
  {
   "cell_type": "code",
   "execution_count": 15,
   "metadata": {},
   "outputs": [],
   "source": [
    "words_moh = my_tokenizer.tokenize_words(my_nor.normalize(tmp_Moh))"
   ]
  },
  {
   "cell_type": "code",
   "execution_count": 16,
   "metadata": {},
   "outputs": [
    {
     "name": "stdout",
     "output_type": "stream",
     "text": [
      "هنگام\n",
      "ثبت\n",
      "فروش\n",
      "دارایی\n",
      "برای\n",
      "اقلا\n",
      "دارایی\n",
      "که\n",
      "جدیدا\n",
      "تحصیل\n",
      "شد&شو\n",
      "پیغام\n",
      "برای\n",
      "دارایی\n",
      "(\n",
      "XXX\n",
      ")\n",
      "با\n",
      "پلاک\n",
      "(\n",
      "xxx\n",
      ")\n",
      "در\n",
      "تاریخ\n",
      "(\n",
      "xx\n",
      "/\n",
      "xx\n",
      "/\n",
      "xx\n",
      ")\n",
      "عملیات\n",
      "تحصیل\n",
      "دارایی\n",
      "ثبت‌شده‌است\n",
      "نمایش\n",
      "داده\n",
      "شد&شو\n",
      "،\n",
      "علت\n",
      "چیست\n",
      "؟\n"
     ]
    }
   ],
   "source": [
    "for tx in words_moh:\n",
    "    print(my_stemmer.convert_to_stem(tx))\n",
    "    "
   ]
  },
  {
   "cell_type": "code",
   "execution_count": 30,
   "metadata": {},
   "outputs": [
    {
     "name": "stdout",
     "output_type": "stream",
     "text": [
      "[('فیلم', 'N'), ('توگو', 'N'), (':', 'DELM'), ('درام', 'N'), ('محصول', 'N'), ('سال', 'N'), ('۲۰۱۹', 'N'), ('کشور', 'N'), ('آمریکا', 'N'), ('به', 'PO'), ('کارگردانی', 'N'), ('اریکسون', 'N'), ('کور', 'N'), ('است.', 'ADJ'), ('بازیگرانی', 'N'), ('چون', 'CON'), ('ویلم', 'AR'), ('دفو،', 'AR'), ('جولیان', 'AR'), ('نیکلسون،', 'AR'), ('ریچارد', 'N'), ('دورمر،', 'AR'), ('آدرین', 'AR'), ('دوروال،', 'AR'), ('مدلین', 'AR'), ('ویکینز،', 'AR'), ('مایکل', 'N'), ('گری\\u200cآیز،', 'AR'), ('نایو', 'AR'), ('نیلسن', 'N'), ('و', 'CON'), ('نیکولای', 'N'), ('نیکولایف', 'N'), ('در', 'PO'), ('این', 'DET'), ('فیلم', 'N'), ('به', 'PO'), ('ایفای', 'N'), ('نقش', 'N'), ('پرداخته\\u200cاند.', 'ADJ'), ('فیلم', 'N'), ('توگو', 'N'), ('در', 'PO'), ('تاریخ', 'N'), ('۲۰', 'N'), ('دسامبر', 'N'), ('۲۰۱۹', 'N'), ('توسط', 'PO'), ('سرویس', 'N'), ('دیزنی', 'N'), ('پلاس', 'N'), ('در', 'PO'), ('شبکه', 'N'), ('نمایش', 'N'), ('خانگی', 'ADJ'), ('آمریکا', 'N'), ('منتشر', 'ADJ'), ('شد', 'V_PA'), ('و', 'CON'), ('نقدهای', 'N'), ('مطلوبی', 'ADJ'), ('را', 'PO'), ('از', 'PO'), ('سوی', 'N'), ('بسیاری', 'ADV'), ('از', 'PO'), ('منتقدان', 'N'), ('دریافت', 'N'), ('کرد.از', 'N'), ('جمله', 'N'), ('افتخارات', 'N'), ('این', 'DET'), ('فیلم', 'N'), ('می\\u200cتوان', 'V_PR'), ('به', 'PO'), ('نامزدی', 'N'), ('دریافت', 'N'), ('یک', 'N'), ('جایزه', 'N'), ('در', 'PO'), ('جشنواره', 'N'), ('ویرایشگران', 'N'), ('صدای', 'N'), ('آثار', 'N'), ('سینمایی', 'ADJ'), ('۲۰۲۰', 'N'), ('اشاره', 'N'), ('کرد.', 'AR')]\n"
     ]
    }
   ],
   "source": [
    "from parsivar import POSTagger\n",
    "my_tag = POSTagger(tagging_model = \"wapiti\")\n",
    "text_tag = my_tag.parse(my_tokenizer.tokenize_words(tmp_text))\n",
    "print(text_tag)"
   ]
  },
  {
   "cell_type": "code",
   "execution_count": 32,
   "metadata": {},
   "outputs": [
    {
     "name": "stdout",
     "output_type": "stream",
     "text": [
      "[فیلم توگو NP] : [درام محصول سال ۲۰۱۹ کشور آمریکا NP] به [کارگردانی اریکسون کور است. NP] [بازیگرانی NP] چون ویلم دفو، جولیان نیکلسون، [ریچارد NP] دورمر، آدرین دوروال، مدلین ویکینز، [مایکل NP] گری‌آیز، نایو [نیلسن NP] و [نیکولای نیکولایف NP] در [این فیلم DNP] به [ایفای نقش پرداخته‌اند. NP] [فیلم توگو NP] در [تاریخ ۲۰ دسامبر ۲۰۱۹ NP] توسط [سرویس دیزنی پلاس NP] در [شبکه نمایش خانگی NP] [آمریکا منتشر NP] [شد VP] و [نقدهای مطلوبی NP] را از [سوی NP] بسیاری از [منتقدان دریافت کرد.از جمله افتخارات این فیلم DDNP] [می‌توان VP] به [نامزدی دریافت یک جایزه NP] در [جشنواره ویرایشگران صدای آثار سینمایی NP] [۲۰۲۰ اشاره NP] کرد.\n"
     ]
    }
   ],
   "source": [
    "from parsivar import FindChunks\n",
    "my_chunker = FindChunks()\n",
    "chunks = my_chunker.chunk_sentence(text_tag)\n",
    "print(my_chunker.convert_nestedtree2rawstring(chunks))"
   ]
  },
  {
   "cell_type": "code",
   "execution_count": 37,
   "metadata": {},
   "outputs": [],
   "source": [
    "from parsivar import DependencyParser\n",
    "my_parser = DependencyParser()\n",
    "sent_list = my_tokenizer.tokenize_sentences(\"سلام\")\n"
   ]
  },
  {
   "cell_type": "code",
   "execution_count": 38,
   "metadata": {},
   "outputs": [
    {
     "ename": "Exception",
     "evalue": "MaltParser parsing failed: java -jar c:\\users\\user\\appdata\\local\\programs\\python\\python37\\lib\\site-packages\\parsivar/resource/dependency_parser\\maltparser-1.9.2.jar -w c:\\users\\user\\appdata\\local\\programs\\python\\python37\\lib\\site-packages\\parsivar/resource/dependency_parser -c total_dep_parser.mco -i C:\\Users\\User\\AppData\\Local\\Temp\\malt_input.conlle476cj9q -o C:\\Users\\User\\AppData\\Local\\Temp\\malt_output.conll05tx56hb -m parse",
     "output_type": "error",
     "traceback": [
      "\u001b[1;31m---------------------------------------------------------------------------\u001b[0m",
      "\u001b[1;31mException\u001b[0m                                 Traceback (most recent call last)",
      "\u001b[1;32m<ipython-input-38-ca0c613ca2bc>\u001b[0m in \u001b[0;36m<module>\u001b[1;34m\u001b[0m\n\u001b[1;32m----> 1\u001b[1;33m \u001b[0mparsed_sents\u001b[0m \u001b[1;33m=\u001b[0m \u001b[0mmy_parser\u001b[0m\u001b[1;33m.\u001b[0m\u001b[0mparse_sents\u001b[0m\u001b[1;33m(\u001b[0m\u001b[0msent_list\u001b[0m\u001b[1;33m)\u001b[0m\u001b[1;33m\u001b[0m\u001b[1;33m\u001b[0m\u001b[0m\n\u001b[0m",
      "\u001b[1;32mc:\\users\\user\\appdata\\local\\programs\\python\\python37\\lib\\site-packages\\parsivar\\dependency.py\u001b[0m in \u001b[0;36mparse_sents\u001b[1;34m(self, sents, verbose)\u001b[0m\n\u001b[0;32m    120\u001b[0m         \u001b[0mtagger\u001b[0m \u001b[1;33m=\u001b[0m \u001b[0mself\u001b[0m\u001b[1;33m.\u001b[0m\u001b[0mmy_tagger\u001b[0m\u001b[1;33m\u001b[0m\u001b[1;33m\u001b[0m\u001b[0m\n\u001b[0;32m    121\u001b[0m         \u001b[0mtagged_sents\u001b[0m \u001b[1;33m=\u001b[0m \u001b[1;33m[\u001b[0m\u001b[0mtagger\u001b[0m\u001b[1;33m(\u001b[0m\u001b[0mself\u001b[0m\u001b[1;33m.\u001b[0m\u001b[0mmy_tokenizer\u001b[0m\u001b[1;33m.\u001b[0m\u001b[0mtokenize_words\u001b[0m\u001b[1;33m(\u001b[0m\u001b[0msent\u001b[0m\u001b[1;33m)\u001b[0m\u001b[1;33m)\u001b[0m \u001b[1;32mfor\u001b[0m \u001b[0msent\u001b[0m \u001b[1;32min\u001b[0m \u001b[0msents\u001b[0m\u001b[1;33m]\u001b[0m\u001b[1;33m\u001b[0m\u001b[1;33m\u001b[0m\u001b[0m\n\u001b[1;32m--> 122\u001b[1;33m         \u001b[1;32mreturn\u001b[0m \u001b[0mself\u001b[0m\u001b[1;33m.\u001b[0m\u001b[0mparser\u001b[0m\u001b[1;33m.\u001b[0m\u001b[0mparse_tagged_sent\u001b[0m\u001b[1;33m(\u001b[0m\u001b[0mtagged_sents\u001b[0m\u001b[1;33m,\u001b[0m \u001b[0mverbose\u001b[0m\u001b[1;33m)\u001b[0m\u001b[1;33m\u001b[0m\u001b[1;33m\u001b[0m\u001b[0m\n\u001b[0m",
      "\u001b[1;32mc:\\users\\user\\appdata\\local\\programs\\python\\python37\\lib\\site-packages\\parsivar\\dependency.py\u001b[0m in \u001b[0;36mparse_tagged_sent\u001b[1;34m(self, sentences, verbose, top_relation_label)\u001b[0m\n\u001b[0;32m     49\u001b[0m         \u001b[0mcmd\u001b[0m \u001b[1;33m=\u001b[0m \u001b[1;33m[\u001b[0m\u001b[1;34m'java'\u001b[0m\u001b[1;33m,\u001b[0m \u001b[1;34m'-jar'\u001b[0m\u001b[1;33m,\u001b[0m \u001b[0mself\u001b[0m\u001b[1;33m.\u001b[0m\u001b[0m_malt_bin\u001b[0m\u001b[1;33m,\u001b[0m \u001b[1;34m'-w'\u001b[0m\u001b[1;33m,\u001b[0m \u001b[0mself\u001b[0m\u001b[1;33m.\u001b[0m\u001b[0mworking_dir\u001b[0m\u001b[1;33m,\u001b[0m \u001b[1;34m'-c'\u001b[0m\u001b[1;33m,\u001b[0m \u001b[0mself\u001b[0m\u001b[1;33m.\u001b[0m\u001b[0mmco\u001b[0m\u001b[1;33m,\u001b[0m \u001b[1;34m'-i'\u001b[0m\u001b[1;33m,\u001b[0m \u001b[0minput_file\u001b[0m\u001b[1;33m.\u001b[0m\u001b[0mname\u001b[0m\u001b[1;33m,\u001b[0m \u001b[1;34m'-o'\u001b[0m\u001b[1;33m,\u001b[0m \u001b[0moutput_file\u001b[0m\u001b[1;33m.\u001b[0m\u001b[0mname\u001b[0m\u001b[1;33m,\u001b[0m \u001b[1;34m'-m'\u001b[0m\u001b[1;33m,\u001b[0m \u001b[1;34m'parse'\u001b[0m\u001b[1;33m]\u001b[0m\u001b[1;33m\u001b[0m\u001b[1;33m\u001b[0m\u001b[0m\n\u001b[0;32m     50\u001b[0m         \u001b[1;32mif\u001b[0m \u001b[0mself\u001b[0m\u001b[1;33m.\u001b[0m\u001b[0m_execute\u001b[0m\u001b[1;33m(\u001b[0m\u001b[0mcmd\u001b[0m\u001b[1;33m,\u001b[0m \u001b[0mverbose\u001b[0m\u001b[1;33m)\u001b[0m \u001b[1;33m!=\u001b[0m \u001b[1;36m0\u001b[0m\u001b[1;33m:\u001b[0m\u001b[1;33m\u001b[0m\u001b[1;33m\u001b[0m\u001b[0m\n\u001b[1;32m---> 51\u001b[1;33m             \u001b[1;32mraise\u001b[0m \u001b[0mException\u001b[0m\u001b[1;33m(\u001b[0m\u001b[1;34m\"MaltParser parsing failed: %s\"\u001b[0m \u001b[1;33m%\u001b[0m \u001b[1;33m(\u001b[0m\u001b[1;34m' '\u001b[0m\u001b[1;33m.\u001b[0m\u001b[0mjoin\u001b[0m\u001b[1;33m(\u001b[0m\u001b[0mcmd\u001b[0m\u001b[1;33m)\u001b[0m\u001b[1;33m)\u001b[0m\u001b[1;33m)\u001b[0m\u001b[1;33m\u001b[0m\u001b[1;33m\u001b[0m\u001b[0m\n\u001b[0m\u001b[0;32m     52\u001b[0m \u001b[1;33m\u001b[0m\u001b[0m\n\u001b[0;32m     53\u001b[0m         \u001b[0mdependency_graph\u001b[0m \u001b[1;33m=\u001b[0m \u001b[1;33m[\u001b[0m\u001b[1;33m]\u001b[0m\u001b[1;33m\u001b[0m\u001b[1;33m\u001b[0m\u001b[0m\n",
      "\u001b[1;31mException\u001b[0m: MaltParser parsing failed: java -jar c:\\users\\user\\appdata\\local\\programs\\python\\python37\\lib\\site-packages\\parsivar/resource/dependency_parser\\maltparser-1.9.2.jar -w c:\\users\\user\\appdata\\local\\programs\\python\\python37\\lib\\site-packages\\parsivar/resource/dependency_parser -c total_dep_parser.mco -i C:\\Users\\User\\AppData\\Local\\Temp\\malt_input.conlle476cj9q -o C:\\Users\\User\\AppData\\Local\\Temp\\malt_output.conll05tx56hb -m parse"
     ]
    }
   ],
   "source": [
    "parsed_sents = my_parser.parse_sents(sent_list)\n"
   ]
  },
  {
   "cell_type": "code",
   "execution_count": null,
   "metadata": {},
   "outputs": [],
   "source": [
    "for depgragh in parsed_sents:\n",
    "    print(depgragh.tree())"
   ]
  },
  {
   "cell_type": "code",
   "execution_count": null,
   "metadata": {},
   "outputs": [],
   "source": [
    "from parsivar import SpellCheck"
   ]
  },
  {
   "cell_type": "code",
   "execution_count": 39,
   "metadata": {},
   "outputs": [
    {
     "ename": "SyntaxError",
     "evalue": "EOL while scanning string literal (<ipython-input-39-b31b03966d5b>, line 5)",
     "output_type": "error",
     "traceback": [
      "\u001b[1;36m  File \u001b[1;32m\"<ipython-input-39-b31b03966d5b>\"\u001b[1;36m, line \u001b[1;32m5\u001b[0m\n\u001b[1;33m    zfile.extractall('C:\\\\Users\\mustufain\\Desktop\\maltparser-1.8.1\\')\u001b[0m\n\u001b[1;37m                                                                     ^\u001b[0m\n\u001b[1;31mSyntaxError\u001b[0m\u001b[1;31m:\u001b[0m EOL while scanning string literal\n"
     ]
    }
   ],
   "source": [
    "import urllib.request\n",
    "urllib.request.urlretrieve('http://www.maltparser.org/mco/english_parser/engmalt.poly-1.7.mco', 'C:\\\\Users\\mustufain\\Desktop\\engmalt.poly-1.7.mco')\n",
    "urllib.request.urlretrieve('http://maltparser.org/dist/maltparser-1.8.1.zip', 'C:\\\\Users\\mustufain\\Desktop\\from -1.8.1.zip')\n",
    "zfile = zipfile.ZipFile('C:\\\\Users\\mustufain\\Desktop\\maltparser-1.8.1.zip')\n",
    "zfile.extractall('C:\\\\Users\\mustufain\\Desktop\\maltparser-1.8.1\\')"
   ]
  },
  {
   "cell_type": "code",
   "execution_count": 40,
   "metadata": {},
   "outputs": [],
   "source": [
    "from nltk import malt\n"
   ]
  },
  {
   "cell_type": "code",
   "execution_count": 43,
   "metadata": {},
   "outputs": [
    {
     "ename": "AssertionError",
     "evalue": "",
     "output_type": "error",
     "traceback": [
      "\u001b[1;31m---------------------------------------------------------------------------\u001b[0m",
      "\u001b[1;31mAssertionError\u001b[0m                            Traceback (most recent call last)",
      "\u001b[1;32m<ipython-input-43-f97d87a43fc7>\u001b[0m in \u001b[0;36m<module>\u001b[1;34m\u001b[0m\n\u001b[1;32m----> 1\u001b[1;33m \u001b[0mmp\u001b[0m \u001b[1;33m=\u001b[0m \u001b[0mmalt\u001b[0m\u001b[1;33m.\u001b[0m\u001b[0mMaltParser\u001b[0m\u001b[1;33m(\u001b[0m\u001b[1;34m'C:\\\\Users\\\\User\\\\AppData\\\\Local\\\\Programs\\\\Python\\\\Python37\\\\Lib\\\\site-packages\\\\parsivar\\\\resource\\\\dependency_parser\\\\maltparser-1.9.2.jar'\u001b[0m\u001b[1;33m)\u001b[0m\u001b[1;33m\u001b[0m\u001b[1;33m\u001b[0m\u001b[0m\n\u001b[0m\u001b[0;32m      2\u001b[0m \u001b[0mmp\u001b[0m\u001b[1;33m.\u001b[0m\u001b[0mparse_one\u001b[0m\u001b[1;33m(\u001b[0m\u001b[1;34m'I shot an elephant in my pajamas .'\u001b[0m\u001b[1;33m.\u001b[0m\u001b[0msplit\u001b[0m\u001b[1;33m(\u001b[0m\u001b[1;33m)\u001b[0m\u001b[1;33m)\u001b[0m\u001b[1;33m.\u001b[0m\u001b[0mtree\u001b[0m\u001b[1;33m(\u001b[0m\u001b[1;33m)\u001b[0m\u001b[1;33m\u001b[0m\u001b[1;33m\u001b[0m\u001b[0m\n",
      "\u001b[1;32mc:\\users\\user\\appdata\\local\\programs\\python\\python37\\lib\\site-packages\\nltk\\parse\\malt.py\u001b[0m in \u001b[0;36m__init__\u001b[1;34m(self, parser_dirname, model_filename, tagger, additional_java_args)\u001b[0m\n\u001b[0;32m    147\u001b[0m \u001b[1;33m\u001b[0m\u001b[0m\n\u001b[0;32m    148\u001b[0m         \u001b[1;31m# Find all the necessary jar files for MaltParser.\u001b[0m\u001b[1;33m\u001b[0m\u001b[1;33m\u001b[0m\u001b[1;33m\u001b[0m\u001b[0m\n\u001b[1;32m--> 149\u001b[1;33m         \u001b[0mself\u001b[0m\u001b[1;33m.\u001b[0m\u001b[0mmalt_jars\u001b[0m \u001b[1;33m=\u001b[0m \u001b[0mfind_maltparser\u001b[0m\u001b[1;33m(\u001b[0m\u001b[0mparser_dirname\u001b[0m\u001b[1;33m)\u001b[0m\u001b[1;33m\u001b[0m\u001b[1;33m\u001b[0m\u001b[0m\n\u001b[0m\u001b[0;32m    150\u001b[0m         \u001b[1;31m# Initialize additional java arguments.\u001b[0m\u001b[1;33m\u001b[0m\u001b[1;33m\u001b[0m\u001b[1;33m\u001b[0m\u001b[0m\n\u001b[0;32m    151\u001b[0m         self.additional_java_args = (\n",
      "\u001b[1;32mc:\\users\\user\\appdata\\local\\programs\\python\\python37\\lib\\site-packages\\nltk\\parse\\malt.py\u001b[0m in \u001b[0;36mfind_maltparser\u001b[1;34m(parser_dirname)\u001b[0m\n\u001b[0;32m     79\u001b[0m     \u001b[0mmalt_dependencies\u001b[0m \u001b[1;33m=\u001b[0m \u001b[0mset\u001b[0m\u001b[1;33m(\u001b[0m\u001b[1;33m[\u001b[0m\u001b[1;34m'log4j.jar'\u001b[0m\u001b[1;33m,\u001b[0m \u001b[1;34m'libsvm.jar'\u001b[0m\u001b[1;33m,\u001b[0m \u001b[1;34m'liblinear-1.8.jar'\u001b[0m\u001b[1;33m]\u001b[0m\u001b[1;33m)\u001b[0m\u001b[1;33m\u001b[0m\u001b[1;33m\u001b[0m\u001b[0m\n\u001b[0;32m     80\u001b[0m \u001b[1;33m\u001b[0m\u001b[0m\n\u001b[1;32m---> 81\u001b[1;33m     \u001b[1;32massert\u001b[0m \u001b[0mmalt_dependencies\u001b[0m\u001b[1;33m.\u001b[0m\u001b[0missubset\u001b[0m\u001b[1;33m(\u001b[0m\u001b[0m_jars\u001b[0m\u001b[1;33m)\u001b[0m\u001b[1;33m\u001b[0m\u001b[1;33m\u001b[0m\u001b[0m\n\u001b[0m\u001b[0;32m     82\u001b[0m     assert any(\n\u001b[0;32m     83\u001b[0m         \u001b[0mfilter\u001b[0m\u001b[1;33m(\u001b[0m\u001b[1;32mlambda\u001b[0m \u001b[0mi\u001b[0m\u001b[1;33m:\u001b[0m \u001b[0mi\u001b[0m\u001b[1;33m.\u001b[0m\u001b[0mstartswith\u001b[0m\u001b[1;33m(\u001b[0m\u001b[1;34m'maltparser-'\u001b[0m\u001b[1;33m)\u001b[0m \u001b[1;32mand\u001b[0m \u001b[0mi\u001b[0m\u001b[1;33m.\u001b[0m\u001b[0mendswith\u001b[0m\u001b[1;33m(\u001b[0m\u001b[1;34m'.jar'\u001b[0m\u001b[1;33m)\u001b[0m\u001b[1;33m,\u001b[0m \u001b[0m_jars\u001b[0m\u001b[1;33m)\u001b[0m\u001b[1;33m\u001b[0m\u001b[1;33m\u001b[0m\u001b[0m\n",
      "\u001b[1;31mAssertionError\u001b[0m: "
     ]
    }
   ],
   "source": [
    "mp = malt.MaltParser('C:\\\\Users\\\\User\\\\AppData\\\\Local\\\\Programs\\\\Python\\\\Python37\\\\Lib\\\\site-packages\\\\parsivar\\\\resource\\\\dependency_parser\\\\maltparser-1.9.2.jar')\n",
    "mp.parse_one('I shot an elephant in my pajamas .'.split()).tree()"
   ]
  },
  {
   "cell_type": "code",
   "execution_count": 44,
   "metadata": {},
   "outputs": [],
   "source": [
    "from parsivar import SpellCheck"
   ]
  },
  {
   "cell_type": "code",
   "execution_count": 45,
   "metadata": {},
   "outputs": [
    {
     "ename": "FileNotFoundError",
     "evalue": "[Errno 2] No such file or directory: 'c:\\\\users\\\\user\\\\appdata\\\\local\\\\programs\\\\python\\\\python37\\\\lib\\\\site-packages\\\\parsivar/resource/spell/mybigram_lm.pckl'",
     "output_type": "error",
     "traceback": [
      "\u001b[1;31m---------------------------------------------------------------------------\u001b[0m",
      "\u001b[1;31mFileNotFoundError\u001b[0m                         Traceback (most recent call last)",
      "\u001b[1;32m<ipython-input-45-4dc6b3d93f5c>\u001b[0m in \u001b[0;36m<module>\u001b[1;34m\u001b[0m\n\u001b[1;32m----> 1\u001b[1;33m \u001b[0mmyspell_cheker\u001b[0m \u001b[1;33m=\u001b[0m \u001b[0mSpellCheck\u001b[0m\u001b[1;33m(\u001b[0m\u001b[1;33m)\u001b[0m\u001b[1;33m\u001b[0m\u001b[1;33m\u001b[0m\u001b[0m\n\u001b[0m",
      "\u001b[1;32mc:\\users\\user\\appdata\\local\\programs\\python\\python37\\lib\\site-packages\\parsivar\\spell_checker.py\u001b[0m in \u001b[0;36m__init__\u001b[1;34m(self)\u001b[0m\n\u001b[0;32m     16\u001b[0m         \u001b[0mself\u001b[0m\u001b[1;33m.\u001b[0m\u001b[0mdir_path\u001b[0m \u001b[1;33m=\u001b[0m \u001b[0mos\u001b[0m\u001b[1;33m.\u001b[0m\u001b[0mpath\u001b[0m\u001b[1;33m.\u001b[0m\u001b[0mdirname\u001b[0m\u001b[1;33m(\u001b[0m\u001b[0mos\u001b[0m\u001b[1;33m.\u001b[0m\u001b[0mpath\u001b[0m\u001b[1;33m.\u001b[0m\u001b[0mrealpath\u001b[0m\u001b[1;33m(\u001b[0m\u001b[0m__file__\u001b[0m\u001b[1;33m)\u001b[0m\u001b[1;33m)\u001b[0m \u001b[1;33m+\u001b[0m \u001b[1;34m\"/\"\u001b[0m\u001b[1;33m\u001b[0m\u001b[1;33m\u001b[0m\u001b[0m\n\u001b[0;32m     17\u001b[0m \u001b[1;33m\u001b[0m\u001b[0m\n\u001b[1;32m---> 18\u001b[1;33m         \u001b[0mself\u001b[0m\u001b[1;33m.\u001b[0m\u001b[0mbigram_lm\u001b[0m \u001b[1;33m=\u001b[0m \u001b[0mself\u001b[0m\u001b[1;33m.\u001b[0m\u001b[0mdata_helper\u001b[0m\u001b[1;33m.\u001b[0m\u001b[0mload_var\u001b[0m\u001b[1;33m(\u001b[0m\u001b[0mself\u001b[0m\u001b[1;33m.\u001b[0m\u001b[0mdir_path\u001b[0m \u001b[1;33m+\u001b[0m \u001b[1;34m\"resource/spell/mybigram_lm.pckl\"\u001b[0m\u001b[1;33m)\u001b[0m\u001b[1;33m\u001b[0m\u001b[1;33m\u001b[0m\u001b[0m\n\u001b[0m\u001b[0;32m     19\u001b[0m         \u001b[0mself\u001b[0m\u001b[1;33m.\u001b[0m\u001b[0monegram_lm\u001b[0m \u001b[1;33m=\u001b[0m \u001b[0mself\u001b[0m\u001b[1;33m.\u001b[0m\u001b[0mdata_helper\u001b[0m\u001b[1;33m.\u001b[0m\u001b[0mload_var\u001b[0m\u001b[1;33m(\u001b[0m\u001b[0mself\u001b[0m\u001b[1;33m.\u001b[0m\u001b[0mdir_path\u001b[0m \u001b[1;33m+\u001b[0m \u001b[1;34m\"resource/spell/onegram.pckl\"\u001b[0m\u001b[1;33m)\u001b[0m\u001b[1;33m\u001b[0m\u001b[1;33m\u001b[0m\u001b[0m\n\u001b[0;32m     20\u001b[0m         self.ingroup_chars = [{'ا', 'آ', 'ع'},\n",
      "\u001b[1;32mc:\\users\\user\\appdata\\local\\programs\\python\\python37\\lib\\site-packages\\parsivar\\data_helper.py\u001b[0m in \u001b[0;36mload_var\u001b[1;34m(self, load_path)\u001b[0m\n\u001b[0;32m     73\u001b[0m \u001b[1;33m\u001b[0m\u001b[0m\n\u001b[0;32m     74\u001b[0m     \u001b[1;32mdef\u001b[0m \u001b[0mload_var\u001b[0m\u001b[1;33m(\u001b[0m\u001b[0mself\u001b[0m\u001b[1;33m,\u001b[0m \u001b[0mload_path\u001b[0m\u001b[1;33m)\u001b[0m\u001b[1;33m:\u001b[0m\u001b[1;33m\u001b[0m\u001b[1;33m\u001b[0m\u001b[0m\n\u001b[1;32m---> 75\u001b[1;33m         \u001b[0mfile\u001b[0m \u001b[1;33m=\u001b[0m \u001b[0mopen\u001b[0m\u001b[1;33m(\u001b[0m\u001b[0mload_path\u001b[0m\u001b[1;33m,\u001b[0m \u001b[1;34m'rb'\u001b[0m\u001b[1;33m)\u001b[0m\u001b[1;33m\u001b[0m\u001b[1;33m\u001b[0m\u001b[0m\n\u001b[0m\u001b[0;32m     76\u001b[0m         \u001b[0mvariable\u001b[0m \u001b[1;33m=\u001b[0m \u001b[0mpickle\u001b[0m\u001b[1;33m.\u001b[0m\u001b[0mload\u001b[0m\u001b[1;33m(\u001b[0m\u001b[0mfile\u001b[0m\u001b[1;33m)\u001b[0m\u001b[1;33m\u001b[0m\u001b[1;33m\u001b[0m\u001b[0m\n\u001b[0;32m     77\u001b[0m         \u001b[0mfile\u001b[0m\u001b[1;33m.\u001b[0m\u001b[0mclose\u001b[0m\u001b[1;33m(\u001b[0m\u001b[1;33m)\u001b[0m\u001b[1;33m\u001b[0m\u001b[1;33m\u001b[0m\u001b[0m\n",
      "\u001b[1;31mFileNotFoundError\u001b[0m: [Errno 2] No such file or directory: 'c:\\\\users\\\\user\\\\appdata\\\\local\\\\programs\\\\python\\\\python37\\\\lib\\\\site-packages\\\\parsivar/resource/spell/mybigram_lm.pckl'"
     ]
    }
   ],
   "source": [
    "myspell_cheker = SpellCheck()"
   ]
  },
  {
   "cell_type": "code",
   "execution_count": null,
   "metadata": {},
   "outputs": [],
   "source": []
  }
 ],
 "metadata": {
  "kernelspec": {
   "display_name": "Python 3",
   "language": "python",
   "name": "python3"
  },
  "language_info": {
   "codemirror_mode": {
    "name": "ipython",
    "version": 3
   },
   "file_extension": ".py",
   "mimetype": "text/x-python",
   "name": "python",
   "nbconvert_exporter": "python",
   "pygments_lexer": "ipython3",
   "version": "3.7.6"
  }
 },
 "nbformat": 4,
 "nbformat_minor": 4
}
